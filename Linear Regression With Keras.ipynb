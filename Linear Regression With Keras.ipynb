{
 "cells": [
  {
   "cell_type": "code",
   "execution_count": 7,
   "metadata": {},
   "outputs": [],
   "source": [
    "import tensorflow\n",
    "from tensorflow.keras.models import Sequential\n",
    "from tensorflow.keras.layers import Dense \n",
    "from tensorflow.keras.optimizers import Adam, SGD\n",
    "\n",
    "%matplotlib inline\n",
    "import matplotlib.pyplot as plt\n",
    "import numpy as np\n",
    "import pandas as pd"
   ]
  },
  {
   "cell_type": "code",
   "execution_count": 8,
   "metadata": {},
   "outputs": [],
   "source": [
    "df=pd.read_csv('weight-height.csv')"
   ]
  },
  {
   "cell_type": "code",
   "execution_count": 9,
   "metadata": {},
   "outputs": [],
   "source": [
    "X=df[['Height']].values\n",
    "y_true=df[['Weight']].values"
   ]
  },
  {
   "cell_type": "code",
   "execution_count": 10,
   "metadata": {},
   "outputs": [
    {
     "data": {
      "text/plain": [
       "array([[73.84701702],\n",
       "       [68.78190405],\n",
       "       [74.11010539],\n",
       "       ...,\n",
       "       [63.86799221],\n",
       "       [69.03424313],\n",
       "       [61.94424588]])"
      ]
     },
     "execution_count": 10,
     "metadata": {},
     "output_type": "execute_result"
    }
   ],
   "source": [
    "X"
   ]
  },
  {
   "cell_type": "code",
   "execution_count": 12,
   "metadata": {},
   "outputs": [],
   "source": [
    "model = Sequential()\n",
    "model.add(Dense(1, input_shape=(1,)))"
   ]
  },
  {
   "cell_type": "code",
   "execution_count": 13,
   "metadata": {},
   "outputs": [
    {
     "name": "stdout",
     "output_type": "stream",
     "text": [
      "Model: \"sequential_2\"\n",
      "_________________________________________________________________\n",
      "Layer (type)                 Output Shape              Param #   \n",
      "=================================================================\n",
      "dense_2 (Dense)              (None, 1)                 2         \n",
      "=================================================================\n",
      "Total params: 2\n",
      "Trainable params: 2\n",
      "Non-trainable params: 0\n",
      "_________________________________________________________________\n"
     ]
    }
   ],
   "source": [
    "model.summary()"
   ]
  },
  {
   "cell_type": "code",
   "execution_count": 14,
   "metadata": {},
   "outputs": [],
   "source": [
    "model.compile(Adam(lr=0.8), 'mean_squared_error')"
   ]
  },
  {
   "cell_type": "code",
   "execution_count": 15,
   "metadata": {},
   "outputs": [
    {
     "name": "stdout",
     "output_type": "stream",
     "text": [
      "Epoch 1/40\n",
      "10000/10000 [==============================] - 2s 163us/sample - loss: 683.1886\n",
      "Epoch 2/40\n",
      "10000/10000 [==============================] - 0s 42us/sample - loss: 557.2117\n",
      "Epoch 3/40\n",
      "10000/10000 [==============================] - 0s 39us/sample - loss: 504.9033\n",
      "Epoch 4/40\n",
      "10000/10000 [==============================] - 0s 39us/sample - loss: 449.4662\n",
      "Epoch 5/40\n",
      "10000/10000 [==============================] - 0s 42us/sample - loss: 392.0773\n",
      "Epoch 6/40\n",
      "10000/10000 [==============================] - 0s 39us/sample - loss: 358.8112\n",
      "Epoch 7/40\n",
      "10000/10000 [==============================] - 0s 41us/sample - loss: 332.0014\n",
      "Epoch 8/40\n",
      "10000/10000 [==============================] - 0s 39us/sample - loss: 292.2435\n",
      "Epoch 9/40\n",
      "10000/10000 [==============================] - 0s 39us/sample - loss: 262.8510\n",
      "Epoch 10/40\n",
      "10000/10000 [==============================] - 0s 39us/sample - loss: 245.5204\n",
      "Epoch 11/40\n",
      "10000/10000 [==============================] - 0s 39us/sample - loss: 229.3977\n",
      "Epoch 12/40\n",
      "10000/10000 [==============================] - 0s 39us/sample - loss: 223.2289\n",
      "Epoch 13/40\n",
      "10000/10000 [==============================] - 0s 47us/sample - loss: 208.0025\n",
      "Epoch 14/40\n",
      "10000/10000 [==============================] - 0s 48us/sample - loss: 210.9506\n",
      "Epoch 15/40\n",
      "10000/10000 [==============================] - 0s 42us/sample - loss: 197.4875\n",
      "Epoch 16/40\n",
      "10000/10000 [==============================] - 0s 39us/sample - loss: 196.5278\n",
      "Epoch 17/40\n",
      "10000/10000 [==============================] - 0s 39us/sample - loss: 196.0256\n",
      "Epoch 18/40\n",
      "10000/10000 [==============================] - 0s 39us/sample - loss: 177.2917\n",
      "Epoch 19/40\n",
      "10000/10000 [==============================] - 0s 45us/sample - loss: 178.9517\n",
      "Epoch 20/40\n",
      "10000/10000 [==============================] - 0s 45us/sample - loss: 194.4522\n",
      "Epoch 21/40\n",
      "10000/10000 [==============================] - 0s 47us/sample - loss: 176.8014\n",
      "Epoch 22/40\n",
      "10000/10000 [==============================] - 0s 47us/sample - loss: 189.2351\n",
      "Epoch 23/40\n",
      "10000/10000 [==============================] - 0s 45us/sample - loss: 177.9253\n",
      "Epoch 24/40\n",
      "10000/10000 [==============================] - 0s 47us/sample - loss: 182.7219\n",
      "Epoch 25/40\n",
      "10000/10000 [==============================] - 0s 47us/sample - loss: 176.2285\n",
      "Epoch 26/40\n",
      "10000/10000 [==============================] - 0s 48us/sample - loss: 182.4298\n",
      "Epoch 27/40\n",
      "10000/10000 [==============================] - 0s 48us/sample - loss: 177.8788\n",
      "Epoch 28/40\n",
      "10000/10000 [==============================] - 0s 44us/sample - loss: 169.1354\n",
      "Epoch 29/40\n",
      "10000/10000 [==============================] - 0s 41us/sample - loss: 190.2866\n",
      "Epoch 30/40\n",
      "10000/10000 [==============================] - 0s 45us/sample - loss: 179.0756\n",
      "Epoch 31/40\n",
      "10000/10000 [==============================] - 0s 45us/sample - loss: 171.3987\n",
      "Epoch 32/40\n",
      "10000/10000 [==============================] - 0s 42us/sample - loss: 171.4928\n",
      "Epoch 33/40\n",
      "10000/10000 [==============================] - 0s 47us/sample - loss: 170.7159\n",
      "Epoch 34/40\n",
      "10000/10000 [==============================] - 0s 47us/sample - loss: 185.1410\n",
      "Epoch 35/40\n",
      "10000/10000 [==============================] - 0s 48us/sample - loss: 183.8047\n",
      "Epoch 36/40\n",
      "10000/10000 [==============================] - 0s 45us/sample - loss: 176.5695\n",
      "Epoch 37/40\n",
      "10000/10000 [==============================] - 0s 42us/sample - loss: 178.6553\n",
      "Epoch 38/40\n",
      "10000/10000 [==============================] - 0s 41us/sample - loss: 176.6319\n",
      "Epoch 39/40\n",
      "10000/10000 [==============================] - 0s 39us/sample - loss: 184.1263\n",
      "Epoch 40/40\n",
      "10000/10000 [==============================] - 0s 37us/sample - loss: 180.7240\n"
     ]
    },
    {
     "data": {
      "text/plain": [
       "<tensorflow.python.keras.callbacks.History at 0x257948c02e8>"
      ]
     },
     "execution_count": 15,
     "metadata": {},
     "output_type": "execute_result"
    }
   ],
   "source": [
    "model.fit(X,y_true, epochs=40)"
   ]
  },
  {
   "cell_type": "code",
   "execution_count": 16,
   "metadata": {},
   "outputs": [],
   "source": [
    "y_pred=model.predict(X)"
   ]
  },
  {
   "cell_type": "code",
   "execution_count": 25,
   "metadata": {},
   "outputs": [
    {
     "data": {
      "text/plain": [
       "[<matplotlib.lines.Line2D at 0x25796220240>]"
      ]
     },
     "execution_count": 25,
     "metadata": {},
     "output_type": "execute_result"
    },
    {
     "data": {
      "image/png": "[encoded data removed]",
      "text/plain": [
       "<Figure size 432x288 with 1 Axes>"
      ]
     },
     "metadata": {
      "needs_background": "light"
     },
     "output_type": "display_data"
    }
   ],
   "source": [
    "df.plot(kind='scatter',\n",
    "       x='Height',\n",
    "       y='Weight', title='Weight and Height in adults')\n",
    "plt.plot(X, y_pred, color='red', linewidth=3)"
   ]
  },
  {
   "cell_type": "code",
   "execution_count": 18,
   "metadata": {},
   "outputs": [],
   "source": [
    "w,b=model.get_weights()"
   ]
  },
  {
   "cell_type": "code",
   "execution_count": 19,
   "metadata": {},
   "outputs": [
    {
     "data": {
      "text/plain": [
       "array([[7.5784864]], dtype=float32)"
      ]
     },
     "execution_count": 19,
     "metadata": {},
     "output_type": "execute_result"
    }
   ],
   "source": [
    "w"
   ]
  },
  {
   "cell_type": "code",
   "execution_count": 20,
   "metadata": {},
   "outputs": [
    {
     "data": {
      "text/plain": [
       "array([-348.77927], dtype=float32)"
      ]
     },
     "execution_count": 20,
     "metadata": {},
     "output_type": "execute_result"
    }
   ],
   "source": [
    "b"
   ]
  },
  {
   "cell_type": "code",
   "execution_count": 22,
   "metadata": {},
   "outputs": [],
   "source": [
    "def mean_squared_error(y_true, y_pred):\n",
    "    s=(y_true-y_pred)**2\n",
    "    return s.mean()\n"
   ]
  },
  {
   "cell_type": "code",
   "execution_count": 23,
   "metadata": {},
   "outputs": [
    {
     "data": {
      "text/plain": [
       "202.19875976361112"
      ]
     },
     "execution_count": 23,
     "metadata": {},
     "output_type": "execute_result"
    }
   ],
   "source": [
    "mean_squared_error(y_true,y_pred)"
   ]
  },
  {
   "cell_type": "code",
   "execution_count": null,
   "metadata": {},
   "outputs": [],
   "source": []
  }
 ],
 "metadata": {
  "kernelspec": {
   "display_name": "Python 3",
   "language": "python",
   "name": "python3"
  },
  "language_info": {
   "codemirror_mode": {
    "name": "ipython",
    "version": 3
   },
   "file_extension": ".py",
   "mimetype": "text/x-python",
   "name": "python",
   "nbconvert_exporter": "python",
   "pygments_lexer": "ipython3",
   "version": "3.7.3"
  }
 },
 "nbformat": 4,
 "nbformat_minor": 2
}
